{
 "cells": [
  {
   "cell_type": "markdown",
   "metadata": {},
   "source": [
    "## Part 1 - Getting Started"
   ]
  },
  {
   "cell_type": "code",
   "execution_count": 106,
   "metadata": {},
   "outputs": [
    {
     "name": "stdout",
     "output_type": "stream",
     "text": [
      "hello world!\n"
     ]
    }
   ],
   "source": [
    "print(\"hello world!\")"
   ]
  },
  {
   "cell_type": "markdown",
   "metadata": {},
   "source": [
    "### Task 1 \n",
    "The notebook that seems the most interesting to me was the Replication of the highly-contentious analysis of economic growth by Reinhart and Rogoff. This seems to be a analysis of the the economic growth during a period of debt. You can find that [Here](https://github.com/jupyter/jupyter/wiki/A-gallery-of-interesting-Jupyter-Notebooks#economics-and-finance). I thought this was interesting that they used python to do an analysis on the all these countries. You could probably do a lot of analysis of the the economy if you had the right data. Something that I would be interested is doing an analysis on the stock market with python. "
   ]
  },
  {
   "cell_type": "markdown",
   "metadata": {},
   "source": [
    "### Task 2 \n",
    "A)\n",
    "<ol>\n",
    "<li>Requests - allows you to send requests</li>\n",
    "<li>Scrappy - extract data from websites </li>\n",
    "<li>wxPython - allows you to create graphical user interfaces</li>\n",
    "<li>Pillow - a python image library</li>\n",
    "<li>SQLALCHEMY - allows you to use python like SQL </li>\n",
    "<li>Beautiful Soup - allows you to find certain elements on a website</li>\n",
    "</ol>\t\n",
    "\n",
    "There are the links and you can find them here: [Requests](http://www.python-requests.org/en/master/), [Scrappy](https://scrapy.org/), [wxPython](https://wxpython.org/),[Pillow](https://pillow.readthedocs.io/en/stable/), [SQLAlCHEMY](https://www.sqlalchemy.org/), and [Beatiful Soup](https://www.crummy.com/software/BeautifulSoup/).\n",
    "\n",
    "B) \n",
    "[ggplot](http://ggplot.yhathq.com/) is a library that is based off R's ggplot! \n",
    "\n",
    "C)\n",
    "[Pandas](https://pandas.pydata.org/pandas-docs/stable/reference/api/pandas.DataFrame.html) is a library that uses something similar to dataframes.\n",
    "\n",
    "### Task 3\n",
    "The three main differences that I saw was in the print method. For R you need parenthesis, but for python 2 you do not need it. The second is how you import libraries. In R, you type library(), but in python you type import library. The third is how you use libraries. In R, to use the library all you need is the function name, but for python you need to type the library then the function.\n",
    "\n"
   ]
  },
  {
   "cell_type": "markdown",
   "metadata": {},
   "source": [
    "## Part 2 "
   ]
  },
  {
   "cell_type": "markdown",
   "metadata": {},
   "source": [
    "### Task 4 "
   ]
  },
  {
   "cell_type": "code",
   "execution_count": 107,
   "metadata": {},
   "outputs": [
    {
     "name": "stdout",
     "output_type": "stream",
     "text": [
      "I love cheese\n"
     ]
    }
   ],
   "source": [
    "sentence = \"I love \"\n",
    "item = \"cheese\"\n",
    "print sentence  + item"
   ]
  },
  {
   "cell_type": "markdown",
   "metadata": {},
   "source": [
    "### Task 5"
   ]
  },
  {
   "cell_type": "code",
   "execution_count": 108,
   "metadata": {},
   "outputs": [
    {
     "name": "stdout",
     "output_type": "stream",
     "text": [
      "I love  cheese 42\n",
      "I LOVE 42 CHEESE\n"
     ]
    }
   ],
   "source": [
    "x = 42\n",
    "print sentence, item, x\n",
    "print sentence.upper() + str(x).upper() + \" \" + item.upper()"
   ]
  },
  {
   "cell_type": "markdown",
   "metadata": {},
   "source": [
    "### Task 6"
   ]
  },
  {
   "cell_type": "code",
   "execution_count": 109,
   "metadata": {},
   "outputs": [
    {
     "name": "stdout",
     "output_type": "stream",
     "text": [
      "['I love ', 'cheese ', '42']\n",
      "I love cheese 42\n",
      "4\n",
      "1\n"
     ]
    }
   ],
   "source": [
    "words = [sentence,item + \" \",str(x)]\n",
    "joinstring =\"\"\n",
    "print words\n",
    "joinstring = joinstring.join(words)\n",
    "print joinstring\n",
    "print joinstring.count(\"e\")\n",
    "print joinstring.count(\"cheese\")"
   ]
  },
  {
   "cell_type": "markdown",
   "metadata": {},
   "source": [
    "### Task 7"
   ]
  },
  {
   "cell_type": "code",
   "execution_count": 110,
   "metadata": {},
   "outputs": [
    {
     "name": "stdout",
     "output_type": "stream",
     "text": [
      "I love c\n"
     ]
    }
   ],
   "source": [
    "print joinstring[:len(joinstring)/2]"
   ]
  },
  {
   "cell_type": "markdown",
   "metadata": {},
   "source": [
    "### Task 8 "
   ]
  },
  {
   "cell_type": "code",
   "execution_count": 111,
   "metadata": {},
   "outputs": [
    {
     "name": "stdout",
     "output_type": "stream",
     "text": [
      "I love cheese 42\n",
      "I love cheese \n",
      "I love milk \n"
     ]
    }
   ],
   "source": [
    "print joinstring\n",
    "joinstring = joinstring.strip(\"42\")\n",
    "print joinstring\n",
    "joinstring = joinstring.replace(\"cheese\", \"milk\")\n",
    "print joinstring\n"
   ]
  },
  {
   "cell_type": "markdown",
   "metadata": {},
   "source": [
    "### Task 9"
   ]
  },
  {
   "cell_type": "code",
   "execution_count": 112,
   "metadata": {},
   "outputs": [
    {
     "data": {
      "text/plain": [
       "['I', 'love', 'chocolate', 'milk']"
      ]
     },
     "execution_count": 112,
     "metadata": {},
     "output_type": "execute_result"
    }
   ],
   "source": [
    "words2 = joinstring.split()\n",
    "words2.insert(len(words2)-1, \"chocolate\")\n",
    "words2\n"
   ]
  },
  {
   "cell_type": "markdown",
   "metadata": {},
   "source": [
    "### Task 10 "
   ]
  },
  {
   "cell_type": "code",
   "execution_count": 113,
   "metadata": {},
   "outputs": [
    {
     "name": "stdout",
     "output_type": "stream",
     "text": [
      "14\n",
      "1st Quartile\n"
     ]
    }
   ],
   "source": [
    "import random\n",
    "x = random.randrange(100) + 1\n",
    "print x\n",
    "if x <= 25:\n",
    "    print \"1st Quartile\"\n",
    "elif x <= 50:\n",
    "    print \"2nd Quartile\"\n",
    "elif x <= 75:\n",
    "    print \"3rd Quartile\"\n",
    "else: \n",
    "    print \"4th Quartile\""
   ]
  },
  {
   "cell_type": "markdown",
   "metadata": {},
   "source": [
    "### Task 11"
   ]
  },
  {
   "cell_type": "code",
   "execution_count": 114,
   "metadata": {},
   "outputs": [
    {
     "name": "stdout",
     "output_type": "stream",
     "text": [
      "Warning, residents of Seattle, temperatures will reach sub-zero temperatures today,please stay indoors if possible\n",
      "Warning, residents of Tacoma, temperatures will reach sub-zero temperatures today,please stay indoors if possible\n",
      "Warning, residents of Tracy, temperatures will reach sub-zero temperatures today,please stay indoors if possible\n",
      "Warning, residents of Olympia, temperatures will reach sub-zero temperatures today,please stay indoors if possible\n",
      "Warning, residents of Portland, temperatures will reach sub-zero temperatures today,please stay indoors if possible\n"
     ]
    }
   ],
   "source": [
    "cities = [\"Seattle\", \"Tacoma\", \"Tracy\", \"Olympia\", \"Portland\"]\n",
    "for city in cities:\n",
    "    print \"Warning, residents of \" + city +  \", temperatures will reach sub-zero temperatures today,please stay indoors if possible\""
   ]
  },
  {
   "cell_type": "markdown",
   "metadata": {},
   "source": [
    "### Task 12"
   ]
  },
  {
   "cell_type": "code",
   "execution_count": 115,
   "metadata": {},
   "outputs": [
    {
     "name": "stdout",
     "output_type": "stream",
     "text": [
      "U://Users/Zhang/Geog_458/Washington.shp\n",
      "U://Users/Zhang/Geog_458/California.shp\n",
      "U://Users/Zhang/Geog_458/Nevada.shp\n",
      "U://Users/Zhang/Geog_458/Idaho.shp\n",
      "U://Users/Zhang/Geog_458/Montana.shp\n",
      "U://Users/Zhang/Geog_458/Utah.shp\n",
      "U://Users/Zhang/Geog_458/Colorado.shp\n",
      "U://Users/Zhang/Geog_458/New Mexico.shp\n"
     ]
    }
   ],
   "source": [
    " emptyList = []  \n",
    " states = [\"Washington\", \"California\", \"Nevada\", \"Idaho\", \"Montana\", \"Utah\", \"Colorado\", \"New Mexico\"]\n",
    "for state in states: \n",
    "    emptyList.append(\"U://Users/Zhang/Geog_458/\" + state + \".shp\")\n",
    "\n",
    "for path in emptyList:\n",
    "    print path"
   ]
  },
  {
   "cell_type": "markdown",
   "metadata": {},
   "source": [
    "### Task 13"
   ]
  },
  {
   "cell_type": "code",
   "execution_count": 116,
   "metadata": {},
   "outputs": [
    {
     "name": "stdout",
     "output_type": "stream",
     "text": [
      "T-minus 10\n",
      "T-minus 9\n",
      "T-minus 8\n",
      "T-minus 7\n",
      "T-minus 6\n",
      "T-minus 5\n",
      "T-minus 4\n",
      "T-minus 3\n",
      "T-minus 2\n",
      "T-minus 1\n",
      "T-minus 0\n"
     ]
    }
   ],
   "source": [
    "number = 10\n",
    "i = number\n",
    "while i >= 0:\n",
    "    print \"T-minus \" + str(i)\n",
    "    i-=1"
   ]
  },
  {
   "cell_type": "markdown",
   "metadata": {},
   "source": [
    "### Task 14"
   ]
  },
  {
   "cell_type": "code",
   "execution_count": 117,
   "metadata": {},
   "outputs": [
    {
     "name": "stdout",
     "output_type": "stream",
     "text": [
      "T-minus 30\n",
      "T-minus 29\n",
      "T-minus 28\n",
      "T-minus 27\n",
      "T-minus 26\n",
      "T-minus 25\n",
      "T-minus 24\n",
      "T-minus 23\n",
      "T-minus 22\n",
      "T-minus 21\n",
      "T-minus 20\n",
      "T-minus 19\n",
      "T-minus 18\n",
      "T-minus 17\n",
      "T-minus 16\n",
      "T-minus 15\n",
      "T-minus 14\n",
      "T-minus 13\n",
      "T-minus 12\n",
      "T-minus 11\n",
      "T-minus 10\n",
      "T-minus 9\n",
      "T-minus 8\n",
      "T-minus 7\n",
      "T-minus 6\n",
      "T-minus 5\n",
      "T-minus 4\n",
      "T-minus 3\n",
      "T-minus 2\n",
      "T-minus 1\n",
      "T-minus 0\n"
     ]
    }
   ],
   "source": [
    "def countdown(count):\n",
    "    i = count\n",
    "    while i >= 0:\n",
    "        print \"T-minus \" + str(i)\n",
    "        i-=1\n",
    "    \n",
    "countdown(30)\n",
    "    "
   ]
  },
  {
   "cell_type": "markdown",
   "metadata": {},
   "source": [
    "### Task 15"
   ]
  },
  {
   "cell_type": "code",
   "execution_count": 118,
   "metadata": {},
   "outputs": [
    {
     "name": "stdout",
     "output_type": "stream",
     "text": [
      "4th Quartile\n"
     ]
    }
   ],
   "source": [
    "def quartile_calc(x):\n",
    "    if x >= 0 and x <= 100:\n",
    "        if x <= 25 :\n",
    "            print \"1st Quartile\"\n",
    "        elif x <= 50:\n",
    "            print \"2nd Quartile\"\n",
    "        elif x <= 75:\n",
    "            print \"3rd Quartile\"\n",
    "        elif x <= 100: \n",
    "            print \"4th Quartile\"\n",
    "    else: \n",
    "        print \"Error\"\n",
    "   \n",
    "quartile_calc(99)"
   ]
  },
  {
   "cell_type": "code",
   "execution_count": null,
   "metadata": {},
   "outputs": [],
   "source": []
  }
 ],
 "metadata": {
  "kernelspec": {
   "display_name": "Python 2",
   "language": "python",
   "name": "python2"
  },
  "language_info": {
   "codemirror_mode": {
    "name": "ipython",
    "version": 2
   },
   "file_extension": ".py",
   "mimetype": "text/x-python",
   "name": "python",
   "nbconvert_exporter": "python",
   "pygments_lexer": "ipython2",
   "version": "2.7.15"
  }
 },
 "nbformat": 4,
 "nbformat_minor": 2
}
